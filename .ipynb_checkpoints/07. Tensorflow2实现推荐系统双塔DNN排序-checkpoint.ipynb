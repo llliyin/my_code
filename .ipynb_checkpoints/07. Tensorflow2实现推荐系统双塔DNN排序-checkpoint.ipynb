{
 "cells": [
  {
   "cell_type": "markdown",
   "metadata": {},
   "source": [
    "## Tensorflow2实现推荐系统双塔DNN排序"
   ]
  },
  {
   "cell_type": "markdown",
   "metadata": {},
   "source": [
    "演示步骤：\n",
    "1. 读取电影数据集，包括（用户信息、电影信息、评分行为信息）\n",
    "2. 搭建双塔模型并训练，用到了keras函数Embedding、点积等技术\n",
    "3. 模型应用1：保存模型用于在线predict预估\n",
    "4. 模型应用2：导出embedding用于召回"
   ]
  },
  {
   "cell_type": "code",
   "execution_count": 1,
   "metadata": {},
   "outputs": [],
   "source": [
    "import pandas as pd\n",
    "import numpy as np\n",
    "import tensorflow as tf\n",
    "from tensorflow import keras\n",
    "from tensorflow.keras import layers\n",
    "import matplotlib.pyplot as plt"
   ]
  },
  {
   "cell_type": "code",
   "execution_count": 2,
   "metadata": {},
   "outputs": [
    {
     "data": {
      "text/plain": [
       "'2.3.0'"
      ]
     },
     "execution_count": 2,
     "metadata": {},
     "output_type": "execute_result"
    }
   ],
   "source": [
    "tf.__version__"
   ]
  },
  {
   "cell_type": "markdown",
   "metadata": {},
   "source": [
    "### 1. 读取和处理数据"
   ]
  },
  {
   "cell_type": "code",
   "execution_count": 3,
   "metadata": {},
   "outputs": [],
   "source": [
    "df_user = pd.read_csv(\"./datas/ml-1m/users.dat\",\n",
    "                     sep=\"::\", header=None, engine=\"python\",\n",
    "                     names = \"UserID::Gender::Age::Occupation::Zip-code\".split(\"::\"))\n",
    "\n",
    "df_movie = pd.read_csv(\"./datas/ml-1m/movies.dat\",\n",
    "                     sep=\"::\", header=None, engine=\"python\",\n",
    "                     names = \"MovieID::Title::Genres\".split(\"::\"))\n",
    "\n",
    "df_rating = pd.read_csv(\"./datas/ml-1m/ratings.dat\",\n",
    "                     sep=\"::\", header=None, engine=\"python\",\n",
    "                     names = \"UserID::MovieID::Rating::Timestamp\".split(\"::\"))"
   ]
  },
  {
   "cell_type": "code",
   "execution_count": 4,
   "metadata": {},
   "outputs": [],
   "source": [
    "df_rating.to_csv(\"./datas/ml-latest-small/ratings_1m.csv\", index=False)"
   ]
  },
  {
   "cell_type": "markdown",
   "metadata": {},
   "source": [
    "#### 只取频率最高的电影分类"
   ]
  },
  {
   "cell_type": "code",
   "execution_count": 5,
   "metadata": {},
   "outputs": [],
   "source": [
    "import collections"
   ]
  },
  {
   "cell_type": "code",
   "execution_count": 6,
   "metadata": {},
   "outputs": [
    {
     "data": {
      "text/plain": [
       "defaultdict(int,\n",
       "            {'Animation': 105,\n",
       "             \"Children's\": 251,\n",
       "             'Comedy': 1200,\n",
       "             'Adventure': 283,\n",
       "             'Fantasy': 68,\n",
       "             'Romance': 471,\n",
       "             'Drama': 1603,\n",
       "             'Action': 503,\n",
       "             'Crime': 211,\n",
       "             'Thriller': 492,\n",
       "             'Horror': 343,\n",
       "             'Sci-Fi': 276,\n",
       "             'Documentary': 127,\n",
       "             'War': 143,\n",
       "             'Musical': 114,\n",
       "             'Mystery': 106,\n",
       "             'Film-Noir': 44,\n",
       "             'Western': 68})"
      ]
     },
     "execution_count": 6,
     "metadata": {},
     "output_type": "execute_result"
    }
   ],
   "source": [
    "# 计算电影中每个题材的次数\n",
    "genre_count = collections.defaultdict(int)\n",
    "for genres in df_movie[\"Genres\"].str.split(\"|\"):\n",
    "    for genre in genres:\n",
    "        genre_count[genre] += 1\n",
    "genre_count"
   ]
  },
  {
   "cell_type": "code",
   "execution_count": 7,
   "metadata": {},
   "outputs": [],
   "source": [
    "# 只保留最有代表性的题材\n",
    "def get_highrate_genre(x):\n",
    "    sub_values = {}\n",
    "    for genre in x.split(\"|\"):\n",
    "        sub_values[genre] = genre_count[genre]\n",
    "    return sorted(sub_values.items(), key=lambda x:x[1], reverse=True)[0][0]\n",
    "df_movie[\"Genres\"] = df_movie[\"Genres\"].map(get_highrate_genre)"
   ]
  },
  {
   "cell_type": "code",
   "execution_count": 8,
   "metadata": {},
   "outputs": [
    {
     "data": {
      "text/html": [
       "<div>\n",
       "<style scoped>\n",
       "    .dataframe tbody tr th:only-of-type {\n",
       "        vertical-align: middle;\n",
       "    }\n",
       "\n",
       "    .dataframe tbody tr th {\n",
       "        vertical-align: top;\n",
       "    }\n",
       "\n",
       "    .dataframe thead th {\n",
       "        text-align: right;\n",
       "    }\n",
       "</style>\n",
       "<table border=\"1\" class=\"dataframe\">\n",
       "  <thead>\n",
       "    <tr style=\"text-align: right;\">\n",
       "      <th></th>\n",
       "      <th>MovieID</th>\n",
       "      <th>Title</th>\n",
       "      <th>Genres</th>\n",
       "    </tr>\n",
       "  </thead>\n",
       "  <tbody>\n",
       "    <tr>\n",
       "      <th>1607</th>\n",
       "      <td>1653</td>\n",
       "      <td>Gattaca (1997)</td>\n",
       "      <td>Drama</td>\n",
       "    </tr>\n",
       "    <tr>\n",
       "      <th>491</th>\n",
       "      <td>495</td>\n",
       "      <td>In the Realm of the Senses (Ai no corrida) (1976)</td>\n",
       "      <td>Drama</td>\n",
       "    </tr>\n",
       "    <tr>\n",
       "      <th>943</th>\n",
       "      <td>955</td>\n",
       "      <td>Bringing Up Baby (1938)</td>\n",
       "      <td>Comedy</td>\n",
       "    </tr>\n",
       "  </tbody>\n",
       "</table>\n",
       "</div>"
      ],
      "text/plain": [
       "      MovieID                                              Title  Genres\n",
       "1607     1653                                     Gattaca (1997)   Drama\n",
       "491       495  In the Realm of the Senses (Ai no corrida) (1976)   Drama\n",
       "943       955                            Bringing Up Baby (1938)  Comedy"
      ]
     },
     "execution_count": 8,
     "metadata": {},
     "output_type": "execute_result"
    }
   ],
   "source": [
    "df_movie.sample(frac=1).head(3)"
   ]
  },
  {
   "cell_type": "markdown",
   "metadata": {},
   "source": [
    "#### 给列新增数字索引列\n",
    "\n",
    "目的是：防止embedding过大"
   ]
  },
  {
   "cell_type": "code",
   "execution_count": 9,
   "metadata": {},
   "outputs": [],
   "source": [
    "def add_index_column(param_df, column_name):\n",
    "    values = list(param_df[column_name].unique())\n",
    "    value_index_dict = {value:idx for idx,value in enumerate(values)}\n",
    "    param_df[f\"{column_name}_idx\"] = param_df[column_name].map(value_index_dict)"
   ]
  },
  {
   "cell_type": "code",
   "execution_count": 10,
   "metadata": {},
   "outputs": [],
   "source": [
    "add_index_column(df_user, \"UserID\")\n",
    "add_index_column(df_user, \"Gender\")\n",
    "add_index_column(df_user, \"Age\")\n",
    "add_index_column(df_user, \"Occupation\")\n",
    "add_index_column(df_movie, \"MovieID\")\n",
    "add_index_column(df_movie, \"Genres\")"
   ]
  },
  {
   "cell_type": "code",
   "execution_count": 12,
   "metadata": {},
   "outputs": [
    {
     "data": {
      "text/html": [
       "<div>\n",
       "<style scoped>\n",
       "    .dataframe tbody tr th:only-of-type {\n",
       "        vertical-align: middle;\n",
       "    }\n",
       "\n",
       "    .dataframe tbody tr th {\n",
       "        vertical-align: top;\n",
       "    }\n",
       "\n",
       "    .dataframe thead th {\n",
       "        text-align: right;\n",
       "    }\n",
       "</style>\n",
       "<table border=\"1\" class=\"dataframe\">\n",
       "  <thead>\n",
       "    <tr style=\"text-align: right;\">\n",
       "      <th></th>\n",
       "      <th>UserID</th>\n",
       "      <th>Gender</th>\n",
       "      <th>Age</th>\n",
       "      <th>Occupation</th>\n",
       "      <th>Zip-code</th>\n",
       "      <th>UserID_idx</th>\n",
       "      <th>Gender_idx</th>\n",
       "      <th>Age_idx</th>\n",
       "      <th>Occupation_idx</th>\n",
       "    </tr>\n",
       "  </thead>\n",
       "  <tbody>\n",
       "    <tr>\n",
       "      <th>0</th>\n",
       "      <td>1</td>\n",
       "      <td>F</td>\n",
       "      <td>1</td>\n",
       "      <td>10</td>\n",
       "      <td>48067</td>\n",
       "      <td>0</td>\n",
       "      <td>0</td>\n",
       "      <td>0</td>\n",
       "      <td>0</td>\n",
       "    </tr>\n",
       "    <tr>\n",
       "      <th>1</th>\n",
       "      <td>2</td>\n",
       "      <td>M</td>\n",
       "      <td>56</td>\n",
       "      <td>16</td>\n",
       "      <td>70072</td>\n",
       "      <td>1</td>\n",
       "      <td>1</td>\n",
       "      <td>1</td>\n",
       "      <td>1</td>\n",
       "    </tr>\n",
       "    <tr>\n",
       "      <th>2</th>\n",
       "      <td>3</td>\n",
       "      <td>M</td>\n",
       "      <td>25</td>\n",
       "      <td>15</td>\n",
       "      <td>55117</td>\n",
       "      <td>2</td>\n",
       "      <td>1</td>\n",
       "      <td>2</td>\n",
       "      <td>2</td>\n",
       "    </tr>\n",
       "    <tr>\n",
       "      <th>3</th>\n",
       "      <td>4</td>\n",
       "      <td>M</td>\n",
       "      <td>45</td>\n",
       "      <td>7</td>\n",
       "      <td>02460</td>\n",
       "      <td>3</td>\n",
       "      <td>1</td>\n",
       "      <td>3</td>\n",
       "      <td>3</td>\n",
       "    </tr>\n",
       "    <tr>\n",
       "      <th>4</th>\n",
       "      <td>5</td>\n",
       "      <td>M</td>\n",
       "      <td>25</td>\n",
       "      <td>20</td>\n",
       "      <td>55455</td>\n",
       "      <td>4</td>\n",
       "      <td>1</td>\n",
       "      <td>2</td>\n",
       "      <td>4</td>\n",
       "    </tr>\n",
       "  </tbody>\n",
       "</table>\n",
       "</div>"
      ],
      "text/plain": [
       "   UserID Gender  Age  Occupation Zip-code  UserID_idx  Gender_idx  Age_idx  \\\n",
       "0       1      F    1          10    48067           0           0        0   \n",
       "1       2      M   56          16    70072           1           1        1   \n",
       "2       3      M   25          15    55117           2           1        2   \n",
       "3       4      M   45           7    02460           3           1        3   \n",
       "4       5      M   25          20    55455           4           1        2   \n",
       "\n",
       "   Occupation_idx  \n",
       "0               0  \n",
       "1               1  \n",
       "2               2  \n",
       "3               3  \n",
       "4               4  "
      ]
     },
     "execution_count": 12,
     "metadata": {},
     "output_type": "execute_result"
    }
   ],
   "source": [
    "df_user.to_csv(\"./datas/ml-latest-small/tensorflow_user_datawithindex.csv\", index=False)\n",
    "df_user.head()"
   ]
  },
  {
   "cell_type": "code",
   "execution_count": 13,
   "metadata": {},
   "outputs": [
    {
     "data": {
      "text/html": [
       "<div>\n",
       "<style scoped>\n",
       "    .dataframe tbody tr th:only-of-type {\n",
       "        vertical-align: middle;\n",
       "    }\n",
       "\n",
       "    .dataframe tbody tr th {\n",
       "        vertical-align: top;\n",
       "    }\n",
       "\n",
       "    .dataframe thead th {\n",
       "        text-align: right;\n",
       "    }\n",
       "</style>\n",
       "<table border=\"1\" class=\"dataframe\">\n",
       "  <thead>\n",
       "    <tr style=\"text-align: right;\">\n",
       "      <th></th>\n",
       "      <th>MovieID</th>\n",
       "      <th>Title</th>\n",
       "      <th>Genres</th>\n",
       "      <th>MovieID_idx</th>\n",
       "      <th>Genres_idx</th>\n",
       "    </tr>\n",
       "  </thead>\n",
       "  <tbody>\n",
       "    <tr>\n",
       "      <th>0</th>\n",
       "      <td>1</td>\n",
       "      <td>Toy Story (1995)</td>\n",
       "      <td>Comedy</td>\n",
       "      <td>0</td>\n",
       "      <td>0</td>\n",
       "    </tr>\n",
       "    <tr>\n",
       "      <th>1</th>\n",
       "      <td>2</td>\n",
       "      <td>Jumanji (1995)</td>\n",
       "      <td>Adventure</td>\n",
       "      <td>1</td>\n",
       "      <td>1</td>\n",
       "    </tr>\n",
       "    <tr>\n",
       "      <th>2</th>\n",
       "      <td>3</td>\n",
       "      <td>Grumpier Old Men (1995)</td>\n",
       "      <td>Comedy</td>\n",
       "      <td>2</td>\n",
       "      <td>0</td>\n",
       "    </tr>\n",
       "    <tr>\n",
       "      <th>3</th>\n",
       "      <td>4</td>\n",
       "      <td>Waiting to Exhale (1995)</td>\n",
       "      <td>Drama</td>\n",
       "      <td>3</td>\n",
       "      <td>2</td>\n",
       "    </tr>\n",
       "    <tr>\n",
       "      <th>4</th>\n",
       "      <td>5</td>\n",
       "      <td>Father of the Bride Part II (1995)</td>\n",
       "      <td>Comedy</td>\n",
       "      <td>4</td>\n",
       "      <td>0</td>\n",
       "    </tr>\n",
       "  </tbody>\n",
       "</table>\n",
       "</div>"
      ],
      "text/plain": [
       "   MovieID                               Title     Genres  MovieID_idx  \\\n",
       "0        1                    Toy Story (1995)     Comedy            0   \n",
       "1        2                      Jumanji (1995)  Adventure            1   \n",
       "2        3             Grumpier Old Men (1995)     Comedy            2   \n",
       "3        4            Waiting to Exhale (1995)      Drama            3   \n",
       "4        5  Father of the Bride Part II (1995)     Comedy            4   \n",
       "\n",
       "   Genres_idx  \n",
       "0           0  \n",
       "1           1  \n",
       "2           0  \n",
       "3           2  \n",
       "4           0  "
      ]
     },
     "execution_count": 13,
     "metadata": {},
     "output_type": "execute_result"
    }
   ],
   "source": [
    "df_movie.to_csv(\"./datas/ml-latest-small/tensorflow_movie_datawithindex.csv\", index=False)\n",
    "df_movie.head()"
   ]
  },
  {
   "cell_type": "markdown",
   "metadata": {},
   "source": [
    "#### 合并成一个DF"
   ]
  },
  {
   "cell_type": "code",
   "execution_count": 14,
   "metadata": {},
   "outputs": [],
   "source": [
    "# 合并成一个df\n",
    "df = pd.merge(pd.merge(df_rating, df_user), df_movie)\n",
    "df.drop(columns=[\"Timestamp\", \"Zip-code\", \"Title\"], inplace=True)"
   ]
  },
  {
   "cell_type": "code",
   "execution_count": 15,
   "metadata": {},
   "outputs": [
    {
     "data": {
      "text/html": [
       "<div>\n",
       "<style scoped>\n",
       "    .dataframe tbody tr th:only-of-type {\n",
       "        vertical-align: middle;\n",
       "    }\n",
       "\n",
       "    .dataframe tbody tr th {\n",
       "        vertical-align: top;\n",
       "    }\n",
       "\n",
       "    .dataframe thead th {\n",
       "        text-align: right;\n",
       "    }\n",
       "</style>\n",
       "<table border=\"1\" class=\"dataframe\">\n",
       "  <thead>\n",
       "    <tr style=\"text-align: right;\">\n",
       "      <th></th>\n",
       "      <th>UserID</th>\n",
       "      <th>MovieID</th>\n",
       "      <th>Rating</th>\n",
       "      <th>Gender</th>\n",
       "      <th>Age</th>\n",
       "      <th>Occupation</th>\n",
       "      <th>UserID_idx</th>\n",
       "      <th>Gender_idx</th>\n",
       "      <th>Age_idx</th>\n",
       "      <th>Occupation_idx</th>\n",
       "      <th>Genres</th>\n",
       "      <th>MovieID_idx</th>\n",
       "      <th>Genres_idx</th>\n",
       "    </tr>\n",
       "  </thead>\n",
       "  <tbody>\n",
       "    <tr>\n",
       "      <th>71674</th>\n",
       "      <td>1983</td>\n",
       "      <td>1210</td>\n",
       "      <td>5</td>\n",
       "      <td>M</td>\n",
       "      <td>25</td>\n",
       "      <td>14</td>\n",
       "      <td>1982</td>\n",
       "      <td>1</td>\n",
       "      <td>2</td>\n",
       "      <td>11</td>\n",
       "      <td>Action</td>\n",
       "      <td>1192</td>\n",
       "      <td>3</td>\n",
       "    </tr>\n",
       "    <tr>\n",
       "      <th>310854</th>\n",
       "      <td>3239</td>\n",
       "      <td>1093</td>\n",
       "      <td>3</td>\n",
       "      <td>F</td>\n",
       "      <td>25</td>\n",
       "      <td>12</td>\n",
       "      <td>3238</td>\n",
       "      <td>0</td>\n",
       "      <td>2</td>\n",
       "      <td>7</td>\n",
       "      <td>Drama</td>\n",
       "      <td>1077</td>\n",
       "      <td>2</td>\n",
       "    </tr>\n",
       "    <tr>\n",
       "      <th>367136</th>\n",
       "      <td>1639</td>\n",
       "      <td>454</td>\n",
       "      <td>4</td>\n",
       "      <td>M</td>\n",
       "      <td>25</td>\n",
       "      <td>17</td>\n",
       "      <td>1638</td>\n",
       "      <td>1</td>\n",
       "      <td>2</td>\n",
       "      <td>8</td>\n",
       "      <td>Drama</td>\n",
       "      <td>450</td>\n",
       "      <td>2</td>\n",
       "    </tr>\n",
       "  </tbody>\n",
       "</table>\n",
       "</div>"
      ],
      "text/plain": [
       "        UserID  MovieID  Rating Gender  Age  Occupation  UserID_idx  \\\n",
       "71674     1983     1210       5      M   25          14        1982   \n",
       "310854    3239     1093       3      F   25          12        3238   \n",
       "367136    1639      454       4      M   25          17        1638   \n",
       "\n",
       "        Gender_idx  Age_idx  Occupation_idx  Genres  MovieID_idx  Genres_idx  \n",
       "71674            1        2              11  Action         1192           3  \n",
       "310854           0        2               7   Drama         1077           2  \n",
       "367136           1        2               8   Drama          450           2  "
      ]
     },
     "execution_count": 15,
     "metadata": {},
     "output_type": "execute_result"
    }
   ],
   "source": [
    "df.sample(frac=1).head(3)"
   ]
  },
  {
   "cell_type": "code",
   "execution_count": 16,
   "metadata": {},
   "outputs": [
    {
     "data": {
      "text/plain": [
       "(6040, 3883, 2, 7, 21, 18)"
      ]
     },
     "execution_count": 16,
     "metadata": {},
     "output_type": "execute_result"
    }
   ],
   "source": [
    "num_users = df[\"UserID_idx\"].max() + 1\n",
    "num_movies = df[\"MovieID_idx\"].max() + 1\n",
    "num_genders = df[\"Gender_idx\"].max() + 1\n",
    "num_ages = df[\"Age_idx\"].max() + 1\n",
    "num_occupations = df[\"Occupation_idx\"].max() + 1\n",
    "num_genres = df[\"Genres_idx\"].max() + 1\n",
    "\n",
    "num_users, num_movies, num_genders, num_ages, num_occupations, num_genres"
   ]
  },
  {
   "cell_type": "markdown",
   "metadata": {},
   "source": [
    "#### 评分的归一化"
   ]
  },
  {
   "cell_type": "code",
   "execution_count": 17,
   "metadata": {},
   "outputs": [
    {
     "data": {
      "text/html": [
       "<div>\n",
       "<style scoped>\n",
       "    .dataframe tbody tr th:only-of-type {\n",
       "        vertical-align: middle;\n",
       "    }\n",
       "\n",
       "    .dataframe tbody tr th {\n",
       "        vertical-align: top;\n",
       "    }\n",
       "\n",
       "    .dataframe thead th {\n",
       "        text-align: right;\n",
       "    }\n",
       "</style>\n",
       "<table border=\"1\" class=\"dataframe\">\n",
       "  <thead>\n",
       "    <tr style=\"text-align: right;\">\n",
       "      <th></th>\n",
       "      <th>UserID</th>\n",
       "      <th>MovieID</th>\n",
       "      <th>Rating</th>\n",
       "      <th>Gender</th>\n",
       "      <th>Age</th>\n",
       "      <th>Occupation</th>\n",
       "      <th>UserID_idx</th>\n",
       "      <th>Gender_idx</th>\n",
       "      <th>Age_idx</th>\n",
       "      <th>Occupation_idx</th>\n",
       "      <th>Genres</th>\n",
       "      <th>MovieID_idx</th>\n",
       "      <th>Genres_idx</th>\n",
       "    </tr>\n",
       "  </thead>\n",
       "  <tbody>\n",
       "    <tr>\n",
       "      <th>453543</th>\n",
       "      <td>4688</td>\n",
       "      <td>1282</td>\n",
       "      <td>0.50</td>\n",
       "      <td>M</td>\n",
       "      <td>25</td>\n",
       "      <td>9</td>\n",
       "      <td>4687</td>\n",
       "      <td>1</td>\n",
       "      <td>2</td>\n",
       "      <td>5</td>\n",
       "      <td>Children's</td>\n",
       "      <td>1262</td>\n",
       "      <td>4</td>\n",
       "    </tr>\n",
       "    <tr>\n",
       "      <th>504709</th>\n",
       "      <td>4089</td>\n",
       "      <td>3668</td>\n",
       "      <td>0.75</td>\n",
       "      <td>M</td>\n",
       "      <td>25</td>\n",
       "      <td>7</td>\n",
       "      <td>4088</td>\n",
       "      <td>1</td>\n",
       "      <td>2</td>\n",
       "      <td>3</td>\n",
       "      <td>Drama</td>\n",
       "      <td>3599</td>\n",
       "      <td>2</td>\n",
       "    </tr>\n",
       "    <tr>\n",
       "      <th>577733</th>\n",
       "      <td>1031</td>\n",
       "      <td>2641</td>\n",
       "      <td>0.50</td>\n",
       "      <td>M</td>\n",
       "      <td>35</td>\n",
       "      <td>16</td>\n",
       "      <td>1030</td>\n",
       "      <td>1</td>\n",
       "      <td>5</td>\n",
       "      <td>1</td>\n",
       "      <td>Action</td>\n",
       "      <td>2572</td>\n",
       "      <td>3</td>\n",
       "    </tr>\n",
       "  </tbody>\n",
       "</table>\n",
       "</div>"
      ],
      "text/plain": [
       "        UserID  MovieID  Rating Gender  Age  Occupation  UserID_idx  \\\n",
       "453543    4688     1282    0.50      M   25           9        4687   \n",
       "504709    4089     3668    0.75      M   25           7        4088   \n",
       "577733    1031     2641    0.50      M   35          16        1030   \n",
       "\n",
       "        Gender_idx  Age_idx  Occupation_idx      Genres  MovieID_idx  \\\n",
       "453543           1        2               5  Children's         1262   \n",
       "504709           1        2               3       Drama         3599   \n",
       "577733           1        5               1      Action         2572   \n",
       "\n",
       "        Genres_idx  \n",
       "453543           4  \n",
       "504709           2  \n",
       "577733           3  "
      ]
     },
     "execution_count": 17,
     "metadata": {},
     "output_type": "execute_result"
    }
   ],
   "source": [
    "min_rating = df[\"Rating\"].min()\n",
    "max_rating = df[\"Rating\"].max()\n",
    "\n",
    "df[\"Rating\"] = df[\"Rating\"].map(lambda x : (x-min_rating)/(max_rating-min_rating))\n",
    "\n",
    "df.sample(frac=1).head(3)"
   ]
  },
  {
   "cell_type": "markdown",
   "metadata": {},
   "source": [
    "#### 构建训练数据集"
   ]
  },
  {
   "cell_type": "code",
   "execution_count": 18,
   "metadata": {},
   "outputs": [],
   "source": [
    "df_sample = df.sample(frac=0.1)\n",
    "X = df_sample[[\"UserID_idx\",\"Gender_idx\",\"Age_idx\",\"Occupation_idx\",\"MovieID_idx\",\"Genres_idx\"]]\n",
    "y = df_sample.pop(\"Rating\")"
   ]
  },
  {
   "cell_type": "markdown",
   "metadata": {},
   "source": [
    "### 2. 搭建双塔模型并训练"
   ]
  },
  {
   "cell_type": "code",
   "execution_count": 1,
   "metadata": {},
   "outputs": [],
   "source": [
    "def get_model():\n",
    "    \"\"\"函数式API搭建双塔DNN模型\"\"\"\n",
    "    \n",
    "    # 输入\n",
    "    user_id = keras.layers.Input(shape=(1,), name=\"user_id\")\n",
    "    gender = keras.layers.Input(shape=(1,), name=\"gender\")\n",
    "    age = keras.layers.Input(shape=(1,), name=\"age\")\n",
    "    occupation = keras.layers.Input(shape=(1,), name=\"occupation\")\n",
    "    movie_id = keras.layers.Input(shape=(1,), name=\"movie_id\")\n",
    "    genre = keras.layers.Input(shape=(1,), name=\"genre\")\n",
    "    \n",
    "    # user 塔\n",
    "    user_vector = tf.keras.layers.concatenate([\n",
    "            layers.Embedding(num_users, 100)(user_id), \n",
    "            layers.Embedding(num_genders, 2)(gender), \n",
    "            layers.Embedding(num_ages, 2)(age), \n",
    "            layers.Embedding(num_occupations, 2)(occupation)\n",
    "    ])\n",
    "    user_vector = layers.Dense(32, activation='relu')(user_vector)\n",
    "    user_vector = layers.Dense(8, activation='relu', \n",
    "                               name=\"user_embedding\", kernel_regularizer='l2')(user_vector)\n",
    "\n",
    "    # movie塔\n",
    "    movie_vector = tf.keras.layers.concatenate([\n",
    "        layers.Embedding(num_movies, 100)(movie_id),\n",
    "        layers.Embedding(num_genres, 2)(genre)\n",
    "    ])\n",
    "    movie_vector = layers.Dense(32, activation='relu')(movie_vector)\n",
    "    movie_vector = layers.Dense(8, activation='relu', \n",
    "                                name=\"movie_embedding\", kernel_regularizer='l2')(movie_vector)\n",
    "\n",
    "    # 每个用户的embedding和item的embedding作点积\n",
    "    dot_user_movie = tf.reduce_sum(user_vector*movie_vector, axis = 1)\n",
    "    dot_user_movie = tf.expand_dims(dot_user_movie, 1)\n",
    "\n",
    "    output = layers.Dense(1, activation='sigmoid')(dot_user_movie)\n",
    "    \n",
    "    return keras.models.Model(inputs=[user_id, gender, age, occupation, movie_id, genre], outputs=[output]) "
   ]
  },
  {
   "cell_type": "code",
   "execution_count": 2,
   "metadata": {},
   "outputs": [
    {
     "ename": "NameError",
     "evalue": "name 'keras' is not defined",
     "output_type": "error",
     "traceback": [
      "\u001b[1;31m---------------------------------------------------------------------------\u001b[0m",
      "\u001b[1;31mNameError\u001b[0m                                 Traceback (most recent call last)",
      "\u001b[1;32m<ipython-input-2-8d306cff251d>\u001b[0m in \u001b[0;36m<module>\u001b[1;34m\u001b[0m\n\u001b[1;32m----> 1\u001b[1;33m \u001b[0mmodel\u001b[0m \u001b[1;33m=\u001b[0m \u001b[0mget_model\u001b[0m\u001b[1;33m(\u001b[0m\u001b[1;33m)\u001b[0m\u001b[1;33m\u001b[0m\u001b[1;33m\u001b[0m\u001b[0m\n\u001b[0m\u001b[0;32m      2\u001b[0m model.compile(loss=tf.keras.losses.MeanSquaredError(), \n\u001b[0;32m      3\u001b[0m               optimizer=keras.optimizers.RMSprop())\n",
      "\u001b[1;32m<ipython-input-1-5c6b127970a8>\u001b[0m in \u001b[0;36mget_model\u001b[1;34m()\u001b[0m\n\u001b[0;32m      3\u001b[0m \u001b[1;33m\u001b[0m\u001b[0m\n\u001b[0;32m      4\u001b[0m     \u001b[1;31m# 输入\u001b[0m\u001b[1;33m\u001b[0m\u001b[1;33m\u001b[0m\u001b[1;33m\u001b[0m\u001b[0m\n\u001b[1;32m----> 5\u001b[1;33m     \u001b[0muser_id\u001b[0m \u001b[1;33m=\u001b[0m \u001b[0mkeras\u001b[0m\u001b[1;33m.\u001b[0m\u001b[0mlayers\u001b[0m\u001b[1;33m.\u001b[0m\u001b[0mInput\u001b[0m\u001b[1;33m(\u001b[0m\u001b[0mshape\u001b[0m\u001b[1;33m=\u001b[0m\u001b[1;33m(\u001b[0m\u001b[1;36m1\u001b[0m\u001b[1;33m,\u001b[0m\u001b[1;33m)\u001b[0m\u001b[1;33m,\u001b[0m \u001b[0mname\u001b[0m\u001b[1;33m=\u001b[0m\u001b[1;34m\"user_id\"\u001b[0m\u001b[1;33m)\u001b[0m\u001b[1;33m\u001b[0m\u001b[1;33m\u001b[0m\u001b[0m\n\u001b[0m\u001b[0;32m      6\u001b[0m     \u001b[0mgender\u001b[0m \u001b[1;33m=\u001b[0m \u001b[0mkeras\u001b[0m\u001b[1;33m.\u001b[0m\u001b[0mlayers\u001b[0m\u001b[1;33m.\u001b[0m\u001b[0mInput\u001b[0m\u001b[1;33m(\u001b[0m\u001b[0mshape\u001b[0m\u001b[1;33m=\u001b[0m\u001b[1;33m(\u001b[0m\u001b[1;36m1\u001b[0m\u001b[1;33m,\u001b[0m\u001b[1;33m)\u001b[0m\u001b[1;33m,\u001b[0m \u001b[0mname\u001b[0m\u001b[1;33m=\u001b[0m\u001b[1;34m\"gender\"\u001b[0m\u001b[1;33m)\u001b[0m\u001b[1;33m\u001b[0m\u001b[1;33m\u001b[0m\u001b[0m\n\u001b[0;32m      7\u001b[0m     \u001b[0mage\u001b[0m \u001b[1;33m=\u001b[0m \u001b[0mkeras\u001b[0m\u001b[1;33m.\u001b[0m\u001b[0mlayers\u001b[0m\u001b[1;33m.\u001b[0m\u001b[0mInput\u001b[0m\u001b[1;33m(\u001b[0m\u001b[0mshape\u001b[0m\u001b[1;33m=\u001b[0m\u001b[1;33m(\u001b[0m\u001b[1;36m1\u001b[0m\u001b[1;33m,\u001b[0m\u001b[1;33m)\u001b[0m\u001b[1;33m,\u001b[0m \u001b[0mname\u001b[0m\u001b[1;33m=\u001b[0m\u001b[1;34m\"age\"\u001b[0m\u001b[1;33m)\u001b[0m\u001b[1;33m\u001b[0m\u001b[1;33m\u001b[0m\u001b[0m\n",
      "\u001b[1;31mNameError\u001b[0m: name 'keras' is not defined"
     ]
    }
   ],
   "source": [
    "model = get_model()\n",
    "model.compile(loss=tf.keras.losses.MeanSquaredError(), \n",
    "              optimizer=keras.optimizers.RMSprop())"
   ]
  },
  {
   "cell_type": "code",
   "execution_count": 21,
   "metadata": {},
   "outputs": [
    {
     "name": "stdout",
     "output_type": "stream",
     "text": [
      "Epoch 1/5\n",
      "   1/3126 [..............................] - ETA: 0s - loss: 0.3692WARNING:tensorflow:From C:\\ProgramData\\Anaconda3\\envs\\dlsys1\\lib\\site-packages\\tensorflow\\python\\ops\\summary_ops_v2.py:1277: stop (from tensorflow.python.eager.profiler) is deprecated and will be removed after 2020-07-01.\n",
      "Instructions for updating:\n",
      "use `tf.profiler.experimental.stop` instead.\n",
      "   2/3126 [..............................] - ETA: 11:54 - loss: 0.3602WARNING:tensorflow:Callbacks method `on_train_batch_end` is slow compared to the batch time (batch time: 0.1604s vs `on_train_batch_end` time: 0.2812s). Check your callbacks.\n",
      "3126/3126 [==============================] - 44s 14ms/step - loss: 0.0739\n",
      "Epoch 2/5\n",
      "3126/3126 [==============================] - 37s 12ms/step - loss: 0.0570\n",
      "Epoch 3/5\n",
      "3126/3126 [==============================] - 39s 12ms/step - loss: 0.0549\n",
      "Epoch 4/5\n",
      "3126/3126 [==============================] - 39s 12ms/step - loss: 0.0539\n",
      "Epoch 5/5\n",
      "3126/3126 [==============================] - 36s 11ms/step - loss: 0.0533\n"
     ]
    }
   ],
   "source": [
    "fit_x_train = [\n",
    "        X[\"UserID_idx\"], \n",
    "        X[\"Gender_idx\"],\n",
    "        X[\"Age_idx\"],\n",
    "        X[\"Occupation_idx\"],\n",
    "        X[\"MovieID_idx\"],\n",
    "        X[\"Genres_idx\"]\n",
    "    ]\n",
    "\n",
    "from datetime import datetime\n",
    "TIMESTAMP = \"{0:%Y-%m-%dT%H-%M-%S/}\".format(datetime.now())\n",
    "tensorboard_callback = tf.keras.callbacks.TensorBoard(log_dir=\"./logs/logs_\"+TIMESTAMP)\n",
    "\n",
    "history = model.fit(\n",
    "    x=fit_x_train,\n",
    "    y=y,\n",
    "    batch_size=32,\n",
    "    epochs=5,\n",
    "    verbose=1,\n",
    "    callbacks=[tensorboard_callback]\n",
    ")"
   ]
  },
  {
   "cell_type": "markdown",
   "metadata": {},
   "source": [
    "### 3. 模型的预估-predict"
   ]
  },
  {
   "cell_type": "code",
   "execution_count": 22,
   "metadata": {},
   "outputs": [],
   "source": [
    "inputs = df.sample(frac=1.0)[\n",
    "    [\"UserID_idx\",\"Gender_idx\",\"Age_idx\",\"Occupation_idx\",\"MovieID_idx\", \"Genres_idx\"]].head(10)"
   ]
  },
  {
   "cell_type": "code",
   "execution_count": 23,
   "metadata": {},
   "outputs": [
    {
     "data": {
      "text/plain": [
       "array([[[0.6879977 ]],\n",
       "\n",
       "       [[0.42509735]],\n",
       "\n",
       "       [[0.5322038 ]],\n",
       "\n",
       "       [[0.60832494]],\n",
       "\n",
       "       [[0.95903313]],\n",
       "\n",
       "       [[0.41328275]],\n",
       "\n",
       "       [[0.68557817]],\n",
       "\n",
       "       [[0.58105934]],\n",
       "\n",
       "       [[0.69036895]],\n",
       "\n",
       "       [[0.735021  ]]], dtype=float32)"
      ]
     },
     "execution_count": 23,
     "metadata": {},
     "output_type": "execute_result"
    }
   ],
   "source": [
    "# 对于（用户ID，召回的电影ID列表），计算分数\n",
    "model.predict([\n",
    "        inputs[\"UserID_idx\"], \n",
    "        inputs[\"Gender_idx\"],\n",
    "        inputs[\"Age_idx\"],\n",
    "        inputs[\"Occupation_idx\"],\n",
    "        inputs[\"MovieID_idx\"],\n",
    "        inputs[\"Genres_idx\"]\n",
    "    ])"
   ]
  },
  {
   "cell_type": "markdown",
   "metadata": {},
   "source": [
    "#### 模型的保存"
   ]
  },
  {
   "cell_type": "code",
   "execution_count": 24,
   "metadata": {},
   "outputs": [],
   "source": [
    "model.save(\"./datas/ml-latest-small/tensorflow_two_tower.h5\")"
   ]
  },
  {
   "cell_type": "code",
   "execution_count": 25,
   "metadata": {},
   "outputs": [],
   "source": [
    "new_model = tf.keras.models.load_model(\"./datas/ml-latest-small/tensorflow_two_tower.h5\")"
   ]
  },
  {
   "cell_type": "code",
   "execution_count": 26,
   "metadata": {},
   "outputs": [
    {
     "data": {
      "text/plain": [
       "array([[[0.6879977 ]],\n",
       "\n",
       "       [[0.42509735]],\n",
       "\n",
       "       [[0.5322038 ]],\n",
       "\n",
       "       [[0.60832494]],\n",
       "\n",
       "       [[0.95903313]],\n",
       "\n",
       "       [[0.41328275]],\n",
       "\n",
       "       [[0.68557817]],\n",
       "\n",
       "       [[0.58105934]],\n",
       "\n",
       "       [[0.69036895]],\n",
       "\n",
       "       [[0.735021  ]]], dtype=float32)"
      ]
     },
     "execution_count": 26,
     "metadata": {},
     "output_type": "execute_result"
    }
   ],
   "source": [
    "new_model.predict([\n",
    "        inputs[\"UserID_idx\"], \n",
    "        inputs[\"Gender_idx\"],\n",
    "        inputs[\"Age_idx\"],\n",
    "        inputs[\"Occupation_idx\"],\n",
    "        inputs[\"MovieID_idx\"],\n",
    "        inputs[\"Genres_idx\"]\n",
    "    ])"
   ]
  },
  {
   "cell_type": "markdown",
   "metadata": {},
   "source": [
    "### 4. 保存模型的embedding可用于召回"
   ]
  },
  {
   "cell_type": "markdown",
   "metadata": {},
   "source": [
    "#### 得到user embedding"
   ]
  },
  {
   "cell_type": "code",
   "execution_count": 27,
   "metadata": {},
   "outputs": [
    {
     "data": {
      "text/plain": [
       "[<tf.Tensor 'user_id:0' shape=(None, 1) dtype=float32>,\n",
       " <tf.Tensor 'gender:0' shape=(None, 1) dtype=float32>,\n",
       " <tf.Tensor 'age:0' shape=(None, 1) dtype=float32>,\n",
       " <tf.Tensor 'occupation:0' shape=(None, 1) dtype=float32>,\n",
       " <tf.Tensor 'movie_id:0' shape=(None, 1) dtype=float32>,\n",
       " <tf.Tensor 'genre:0' shape=(None, 1) dtype=float32>]"
      ]
     },
     "execution_count": 27,
     "metadata": {},
     "output_type": "execute_result"
    }
   ],
   "source": [
    "model.input"
   ]
  },
  {
   "cell_type": "code",
   "execution_count": 28,
   "metadata": {},
   "outputs": [],
   "source": [
    "user_layer_model = keras.models.Model(\n",
    "    inputs=[model.input[0], model.input[1], model.input[2], model.input[3]],\n",
    "    outputs=model.get_layer(\"user_embedding\").output\n",
    ")"
   ]
  },
  {
   "cell_type": "code",
   "execution_count": 29,
   "metadata": {},
   "outputs": [],
   "source": [
    "user_embeddings = []\n",
    "for index, row in df_user.iterrows():\n",
    "    user_id = row[\"UserID\"]\n",
    "    user_input = [\n",
    "        np.reshape(row[\"UserID_idx\"], [1,1]),\n",
    "        np.reshape(row[\"Gender_idx\"], [1,1]),\n",
    "        np.reshape(row[\"Age_idx\"], [1,1]),\n",
    "        np.reshape(row[\"Occupation_idx\"], [1,1])\n",
    "    ]\n",
    "    user_embedding = user_layer_model(user_input)\n",
    "    \n",
    "    embedding_str = \",\".join([str(x) for x in user_embedding.numpy().flatten()])\n",
    "    user_embeddings.append([user_id, embedding_str])"
   ]
  },
  {
   "cell_type": "code",
   "execution_count": 30,
   "metadata": {},
   "outputs": [
    {
     "data": {
      "text/html": [
       "<div>\n",
       "<style scoped>\n",
       "    .dataframe tbody tr th:only-of-type {\n",
       "        vertical-align: middle;\n",
       "    }\n",
       "\n",
       "    .dataframe tbody tr th {\n",
       "        vertical-align: top;\n",
       "    }\n",
       "\n",
       "    .dataframe thead th {\n",
       "        text-align: right;\n",
       "    }\n",
       "</style>\n",
       "<table border=\"1\" class=\"dataframe\">\n",
       "  <thead>\n",
       "    <tr style=\"text-align: right;\">\n",
       "      <th></th>\n",
       "      <th>user_id</th>\n",
       "      <th>user_embedding</th>\n",
       "    </tr>\n",
       "  </thead>\n",
       "  <tbody>\n",
       "    <tr>\n",
       "      <th>0</th>\n",
       "      <td>1</td>\n",
       "      <td>0.14973779,0.0,0.0,0.0,0.0,0.0,0.0,1.3003685</td>\n",
       "    </tr>\n",
       "    <tr>\n",
       "      <th>1</th>\n",
       "      <td>2</td>\n",
       "      <td>0.15087259,0.0,0.0,0.0,0.0,0.0,0.0,1.215512</td>\n",
       "    </tr>\n",
       "    <tr>\n",
       "      <th>2</th>\n",
       "      <td>3</td>\n",
       "      <td>0.15216017,0.0,0.0,0.0,0.0,0.0,0.0,1.0616322</td>\n",
       "    </tr>\n",
       "    <tr>\n",
       "      <th>3</th>\n",
       "      <td>4</td>\n",
       "      <td>0.1493476,0.0,0.0,0.0,0.0,0.0,0.0,1.3068095</td>\n",
       "    </tr>\n",
       "    <tr>\n",
       "      <th>4</th>\n",
       "      <td>5</td>\n",
       "      <td>0.15388484,0.0,0.0,0.0,0.0,0.0,0.0,0.93516773</td>\n",
       "    </tr>\n",
       "  </tbody>\n",
       "</table>\n",
       "</div>"
      ],
      "text/plain": [
       "   user_id                                 user_embedding\n",
       "0        1   0.14973779,0.0,0.0,0.0,0.0,0.0,0.0,1.3003685\n",
       "1        2    0.15087259,0.0,0.0,0.0,0.0,0.0,0.0,1.215512\n",
       "2        3   0.15216017,0.0,0.0,0.0,0.0,0.0,0.0,1.0616322\n",
       "3        4    0.1493476,0.0,0.0,0.0,0.0,0.0,0.0,1.3068095\n",
       "4        5  0.15388484,0.0,0.0,0.0,0.0,0.0,0.0,0.93516773"
      ]
     },
     "execution_count": 30,
     "metadata": {},
     "output_type": "execute_result"
    }
   ],
   "source": [
    "df_user_embedding = pd.DataFrame(user_embeddings, columns = [\"user_id\", \"user_embedding\"])\n",
    "df_user_embedding.head()"
   ]
  },
  {
   "cell_type": "code",
   "execution_count": 31,
   "metadata": {},
   "outputs": [],
   "source": [
    "output = \"./datas/ml-latest-small/tensorflow_user_embedding.csv\"\n",
    "df_user_embedding.to_csv(output, index=False)"
   ]
  },
  {
   "cell_type": "markdown",
   "metadata": {},
   "source": [
    "#### 得到movie embedding"
   ]
  },
  {
   "cell_type": "code",
   "execution_count": 32,
   "metadata": {},
   "outputs": [
    {
     "data": {
      "text/plain": [
       "[<tf.Tensor 'user_id:0' shape=(None, 1) dtype=float32>,\n",
       " <tf.Tensor 'gender:0' shape=(None, 1) dtype=float32>,\n",
       " <tf.Tensor 'age:0' shape=(None, 1) dtype=float32>,\n",
       " <tf.Tensor 'occupation:0' shape=(None, 1) dtype=float32>,\n",
       " <tf.Tensor 'movie_id:0' shape=(None, 1) dtype=float32>,\n",
       " <tf.Tensor 'genre:0' shape=(None, 1) dtype=float32>]"
      ]
     },
     "execution_count": 32,
     "metadata": {},
     "output_type": "execute_result"
    }
   ],
   "source": [
    "model.input"
   ]
  },
  {
   "cell_type": "code",
   "execution_count": 33,
   "metadata": {},
   "outputs": [],
   "source": [
    "movie_layer_model = keras.models.Model(\n",
    "    inputs=[model.input[4], model.input[5]],\n",
    "    outputs=model.get_layer(\"movie_embedding\").output\n",
    ")"
   ]
  },
  {
   "cell_type": "code",
   "execution_count": 34,
   "metadata": {},
   "outputs": [],
   "source": [
    "movie_embeddings = []\n",
    "for index, row in df_movie.iterrows():\n",
    "    movie_id = row[\"MovieID\"]\n",
    "    movie_input = [\n",
    "        np.reshape(row[\"MovieID_idx\"], [1,1]),\n",
    "        np.reshape(row[\"Genres_idx\"], [1,1])\n",
    "    ]\n",
    "    movie_embedding = movie_layer_model(movie_input)\n",
    "    \n",
    "    embedding_str = \",\".join([str(x) for x in movie_embedding.numpy().flatten()])\n",
    "    movie_embeddings.append([movie_id, embedding_str])"
   ]
  },
  {
   "cell_type": "code",
   "execution_count": 35,
   "metadata": {},
   "outputs": [
    {
     "data": {
      "text/html": [
       "<div>\n",
       "<style scoped>\n",
       "    .dataframe tbody tr th:only-of-type {\n",
       "        vertical-align: middle;\n",
       "    }\n",
       "\n",
       "    .dataframe tbody tr th {\n",
       "        vertical-align: top;\n",
       "    }\n",
       "\n",
       "    .dataframe thead th {\n",
       "        text-align: right;\n",
       "    }\n",
       "</style>\n",
       "<table border=\"1\" class=\"dataframe\">\n",
       "  <thead>\n",
       "    <tr style=\"text-align: right;\">\n",
       "      <th></th>\n",
       "      <th>movie_id</th>\n",
       "      <th>movie_embedding</th>\n",
       "    </tr>\n",
       "  </thead>\n",
       "  <tbody>\n",
       "    <tr>\n",
       "      <th>0</th>\n",
       "      <td>1</td>\n",
       "      <td>0.0,0.0,0.0,0.0,0.032532513,0.0007052319,0.0,1...</td>\n",
       "    </tr>\n",
       "    <tr>\n",
       "      <th>1</th>\n",
       "      <td>2</td>\n",
       "      <td>0.0,0.0,0.0,0.0,0.015195802,0.0,0.0,0.9925255</td>\n",
       "    </tr>\n",
       "    <tr>\n",
       "      <th>2</th>\n",
       "      <td>3</td>\n",
       "      <td>0.0,0.0,0.0,0.0,0.0085964035,0.0,0.0,0.62780696</td>\n",
       "    </tr>\n",
       "    <tr>\n",
       "      <th>3</th>\n",
       "      <td>4</td>\n",
       "      <td>0.0,0.0,0.0,0.0,0.007982403,0.0,0.0,0.5008539</td>\n",
       "    </tr>\n",
       "    <tr>\n",
       "      <th>4</th>\n",
       "      <td>5</td>\n",
       "      <td>0.0,0.0,0.0,0.0,0.0077411127,0.0,0.0,0.56733227</td>\n",
       "    </tr>\n",
       "  </tbody>\n",
       "</table>\n",
       "</div>"
      ],
      "text/plain": [
       "   movie_id                                    movie_embedding\n",
       "0         1  0.0,0.0,0.0,0.0,0.032532513,0.0007052319,0.0,1...\n",
       "1         2      0.0,0.0,0.0,0.0,0.015195802,0.0,0.0,0.9925255\n",
       "2         3    0.0,0.0,0.0,0.0,0.0085964035,0.0,0.0,0.62780696\n",
       "3         4      0.0,0.0,0.0,0.0,0.007982403,0.0,0.0,0.5008539\n",
       "4         5    0.0,0.0,0.0,0.0,0.0077411127,0.0,0.0,0.56733227"
      ]
     },
     "execution_count": 35,
     "metadata": {},
     "output_type": "execute_result"
    }
   ],
   "source": [
    "df_movie_embedding = pd.DataFrame(movie_embeddings, columns = [\"movie_id\", \"movie_embedding\"])\n",
    "df_movie_embedding.head()"
   ]
  },
  {
   "cell_type": "code",
   "execution_count": 36,
   "metadata": {},
   "outputs": [],
   "source": [
    "output = \"./datas/ml-latest-small/tensorflow_movie_embedding.csv\"\n",
    "df_movie_embedding.to_csv(output, index=False)"
   ]
  },
  {
   "cell_type": "code",
   "execution_count": null,
   "metadata": {},
   "outputs": [],
   "source": []
  }
 ],
 "metadata": {
  "kernelspec": {
   "display_name": "Python [conda env:dlsys1]",
   "language": "python",
   "name": "conda-env-dlsys1-py"
  },
  "language_info": {
   "codemirror_mode": {
    "name": "ipython",
    "version": 3
   },
   "file_extension": ".py",
   "mimetype": "text/x-python",
   "name": "python",
   "nbconvert_exporter": "python",
   "pygments_lexer": "ipython3",
   "version": "3.7.9"
  }
 },
 "nbformat": 4,
 "nbformat_minor": 4
}
